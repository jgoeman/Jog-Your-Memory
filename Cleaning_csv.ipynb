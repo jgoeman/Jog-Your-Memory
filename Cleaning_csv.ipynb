{
 "cells": [
  {
   "cell_type": "code",
   "execution_count": null,
   "id": "90f2beef-dcc7-4164-bb4b-5cde5bf77087",
   "metadata": {},
   "outputs": [],
   "source": [
    "import pandas as pd"
   ]
  },
  {
   "cell_type": "code",
   "execution_count": null,
   "id": "fe759493-4562-4303-b9e2-c23e9765e96e",
   "metadata": {},
   "outputs": [],
   "source": [
    "data_to_load = \"Resources/National_Parks_Kaggle_Data.csv\"\n",
    "trail_data = pd.read_csv(data_to_load)"
   ]
  },
  {
   "cell_type": "code",
   "execution_count": null,
   "id": "1257903c-30f7-451a-8116-cf2929991c3a",
   "metadata": {},
   "outputs": [],
   "source": [
    "trail_data"
   ]
  },
  {
   "cell_type": "markdown",
   "id": "ee6a31a5-3ee6-4ea7-b240-f433dcf66f03",
   "metadata": {},
   "source": [
    "# Joe-Separate Columns for features and activities"
   ]
  },
  {
   "cell_type": "code",
   "execution_count": null,
   "id": "5724927d-5b92-4012-ae1b-b5ea7eb3012b",
   "metadata": {},
   "outputs": [],
   "source": []
  },
  {
   "cell_type": "code",
   "execution_count": null,
   "id": "e6e6cfa7-7cb0-4c73-a26f-4fe2c28af780",
   "metadata": {},
   "outputs": [],
   "source": []
  },
  {
   "cell_type": "markdown",
   "id": "87729c8b-ed9c-40f9-a25c-74a9b1d2baed",
   "metadata": {},
   "source": [
    "# Adam- New Column with url for all trails with hyphenated state and trail name"
   ]
  },
  {
   "cell_type": "code",
   "execution_count": null,
   "id": "7c010b5a-c3e9-4403-841d-f7053788355c",
   "metadata": {},
   "outputs": [],
   "source": [
    "# Create new column for hyphenated trail name\n",
    "trail_data['update_name'] = trail_data['name']\n",
    "\n",
    "# Replace spaces with hyphens \n",
    "trail_data.update_name = trail_data.update_name.str.replace(' ','-')\n",
    "trail_data.head()"
   ]
  },
  {
   "cell_type": "code",
   "execution_count": null,
   "id": "3614a9d3",
   "metadata": {},
   "outputs": [],
   "source": [
    "# Create new column for hyphenated state name\n",
    "trail_data['update_state'] = trail_data['state_name']\n",
    "\n",
    "# Replace spaces with hyphens \n",
    "trail_data.update_state = trail_data.update_state.str.replace(' ','-')\n",
    "trail_data.head()\n"
   ]
  },
  {
   "cell_type": "code",
   "execution_count": null,
   "id": "9a51b4a8",
   "metadata": {},
   "outputs": [],
   "source": [
    "# Create All Trails Url\n",
    "trail_data ['trail_url'] = 'https://www.alltrails.com/trail/us' + '/' + trail_data['update_state'] + '/' + trail_data['update_name']\n",
    "trail_data.head()\n",
    "\n",
    "# https://www.alltrails.com/trail/us/alaska/triple-lakes-trail"
   ]
  },
  {
   "cell_type": "markdown",
   "id": "e3d04dec-0cbf-42c2-8133-739dcd3948d4",
   "metadata": {},
   "source": [
    "# Andrea- Remove trail id and Units columns"
   ]
  },
  {
   "cell_type": "code",
   "execution_count": null,
   "id": "9fcd3eb7-d156-4631-87d9-8b114da26675",
   "metadata": {},
   "outputs": [],
   "source": []
  },
  {
   "cell_type": "code",
   "execution_count": null,
   "id": "20bc652d-14b2-4cd5-a9f7-63ca663034ff",
   "metadata": {},
   "outputs": [],
   "source": []
  },
  {
   "cell_type": "markdown",
   "id": "2a04fd9b-61b2-49b0-bba6-117be27cb494",
   "metadata": {},
   "source": [
    "# Sara- Research the geolocation columns, popularity column, and visitor usage."
   ]
  },
  {
   "cell_type": "code",
   "execution_count": null,
   "id": "ff6cf302-57b9-41b9-ac88-125d64ce587b",
   "metadata": {},
   "outputs": [],
   "source": []
  },
  {
   "cell_type": "code",
   "execution_count": null,
   "id": "a05f3928-8b2d-449a-bc61-8f5e1629b9b1",
   "metadata": {},
   "outputs": [],
   "source": []
  }
 ],
 "metadata": {
  "kernelspec": {
   "display_name": "PythonData",
   "language": "python",
   "name": "pythondata"
  },
  "language_info": {
   "codemirror_mode": {
    "name": "ipython",
    "version": 3
   },
   "file_extension": ".py",
   "mimetype": "text/x-python",
   "name": "python",
   "nbconvert_exporter": "python",
   "pygments_lexer": "ipython3",
   "version": "3.7.10"
  }
 },
 "nbformat": 4,
 "nbformat_minor": 5
}
